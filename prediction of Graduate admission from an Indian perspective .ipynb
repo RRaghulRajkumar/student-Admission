{
 "cells": [
  {
   "cell_type": "markdown",
   "id": "86e2a22c",
   "metadata": {},
   "source": [
    "# INTENSAVY TASK-1"
   ]
  },
  {
   "cell_type": "markdown",
   "id": "2ff4872f",
   "metadata": {},
   "source": [
    "We are Predicting Changes of Admissions for Graduate Indian Students to Foreign University.\n",
    "\n",
    "**Abstract**: Prospective graduate students always face a dilemma deciding universities of their choice while applying to master's programs. While there are a good number of predictors and consultancies that guide a student, they aren't always reliable since decision is made on the basis of select past admissions. In this paper, we present a Machine Learning based method where we compare different regression algorithms, such as Linear Regression, Support Vector Regression, Decision Trees and Random Forest, given the profile of the student. We then compute error functions for the different models and compare their performance to select the best performing model. Results then indicate if the university of choice is an ambitious or a safe one.\n",
    "\n",
    "The Dataset's parameters included are :\n",
    "\n",
    "- **GRE Scores (out of 340)**: This refers to the scores obtained by a student in the Graduate Record Examination (GRE), which is a standardized test commonly used for admission into graduate programs. The scores range from 0 to 340, with higher scores indicating better performance.\n",
    "\n",
    "- **TOEFL Scores (out of 120)**: This refers to the scores obtained by a student in the Test of English as a Foreign Language (TOEFL), which measures English language proficiency for non-native English speakers. The scores range from 0 to 120, with higher scores indicating better English language skills.\n",
    "\n",
    "- **University Rating (out of 5)**: This represents the rating or reputation of the university or institution from which the student graduated or is applying to. It is usually based on various factors such as research output, faculty quality, infrastructure, and academic performance. The rating ranges from 1 to 5, with higher values indicating higher ratings or better universities.\n",
    "\n",
    "- **Statement of Purpose and Letter of Recommendation Strength (out of 5)**: This refers to the perceived strength or quality of the student's statement of purpose and letter of recommendation. It is usually assessed by the admissions committee or reviewers based on the content, clarity, coherence, and strength of recommendations. The scores range from 1 to 5, with higher values indicating stronger statements and recommendations.\n",
    "- **Undergraduate GPA (out of 10)**: This represents the Grade Point Average (GPA) achieved by the student during their undergraduate studies. The GPA is a numerical representation of a student's academic performance, typically ranging from 0 to 10. Higher values indicate higher GPAs, reflecting better academic achievement.\n",
    "\n",
    "- **Research Experience (either 0 or 1)**: This indicates whether the student has prior research experience or not. It is represented as a binary variable, where 0 typically means no research experience and 1 means the student has research experience.\n",
    "\n",
    "- **Chance of Admit (ranging from 0 to 1)**:  chance of admit is a parameter that was asked to individuals (some values manually entered) before the results of the application. Think of it this way, with all the scores and other documents you have, you are interested in feeding the data to a ML model and see what it predicts. Basically, you are allowing it to make a prediction regarding your chance of admit so that you can understand what your own chances are. I do understand that eventually it is entirely your decision whether you choose to apply to a particular university or not, however this dataset was only created to be fed into different ML models and check how well it can understand the importance of different parameters before making a prediction.\n",
    "\n",
    "This dataset is inspired by the UCLA Graduate Dataset. The test scores and GPA are in the older format."
   ]
  },
  {
   "cell_type": "code",
   "execution_count": 1,
   "id": "1c9f8c3c",
   "metadata": {},
   "outputs": [],
   "source": [
    "import numpy as np # linear algebra\n",
    "import pandas as pd # data processing, CSV file I/O (e.g. pd.read_csv)\n",
    "import matplotlib.pyplot as plt\n",
    "%matplotlib inline \n",
    "# magic command that allows the plots to be displayed directly in the Jupyter Notebook.\n",
    "import seaborn as sns # data visualization library based on matplotlib that provides a high-level interface for creating attractive and informative statistical graphics\n",
    "import sklearn # A machine learning library in Python that provides a range of tools for data analysis, modeling, and evaluation.\n",
    "from tabulate import tabulate  #function can be used to convert data, such as lists or pandas DataFrames, into a formatted table\n",
    "\n",
    "pd.set_option('display.max_columns',500) \n",
    "\n",
    "import os\n",
    "for dirname, _, filenames in os.walk(''):\n",
    "    for filename in filenames:\n",
    "        print(os.path.join(dirname, filename))"
   ]
  },
  {
   "cell_type": "code",
   "execution_count": 2,
   "id": "bf2b2bf7",
   "metadata": {},
   "outputs": [
    {
     "data": {
      "text/html": [
       "<div>\n",
       "<style scoped>\n",
       "    .dataframe tbody tr th:only-of-type {\n",
       "        vertical-align: middle;\n",
       "    }\n",
       "\n",
       "    .dataframe tbody tr th {\n",
       "        vertical-align: top;\n",
       "    }\n",
       "\n",
       "    .dataframe thead th {\n",
       "        text-align: right;\n",
       "    }\n",
       "</style>\n",
       "<table border=\"1\" class=\"dataframe\">\n",
       "  <thead>\n",
       "    <tr style=\"text-align: right;\">\n",
       "      <th></th>\n",
       "      <th>Serial No.</th>\n",
       "      <th>GRE Score</th>\n",
       "      <th>TOEFL Score</th>\n",
       "      <th>University Rating</th>\n",
       "      <th>SOP</th>\n",
       "      <th>LOR</th>\n",
       "      <th>CGPA</th>\n",
       "      <th>Research</th>\n",
       "      <th>Chance of Admit</th>\n",
       "    </tr>\n",
       "  </thead>\n",
       "  <tbody>\n",
       "    <tr>\n",
       "      <th>0</th>\n",
       "      <td>1</td>\n",
       "      <td>337</td>\n",
       "      <td>118</td>\n",
       "      <td>4</td>\n",
       "      <td>4.5</td>\n",
       "      <td>4.5</td>\n",
       "      <td>9.65</td>\n",
       "      <td>1</td>\n",
       "      <td>0.92</td>\n",
       "    </tr>\n",
       "    <tr>\n",
       "      <th>1</th>\n",
       "      <td>2</td>\n",
       "      <td>324</td>\n",
       "      <td>107</td>\n",
       "      <td>4</td>\n",
       "      <td>4.0</td>\n",
       "      <td>4.5</td>\n",
       "      <td>8.87</td>\n",
       "      <td>1</td>\n",
       "      <td>0.76</td>\n",
       "    </tr>\n",
       "    <tr>\n",
       "      <th>2</th>\n",
       "      <td>3</td>\n",
       "      <td>316</td>\n",
       "      <td>104</td>\n",
       "      <td>3</td>\n",
       "      <td>3.0</td>\n",
       "      <td>3.5</td>\n",
       "      <td>8.00</td>\n",
       "      <td>1</td>\n",
       "      <td>0.72</td>\n",
       "    </tr>\n",
       "    <tr>\n",
       "      <th>3</th>\n",
       "      <td>4</td>\n",
       "      <td>322</td>\n",
       "      <td>110</td>\n",
       "      <td>3</td>\n",
       "      <td>3.5</td>\n",
       "      <td>2.5</td>\n",
       "      <td>8.67</td>\n",
       "      <td>1</td>\n",
       "      <td>0.80</td>\n",
       "    </tr>\n",
       "    <tr>\n",
       "      <th>4</th>\n",
       "      <td>5</td>\n",
       "      <td>314</td>\n",
       "      <td>103</td>\n",
       "      <td>2</td>\n",
       "      <td>2.0</td>\n",
       "      <td>3.0</td>\n",
       "      <td>8.21</td>\n",
       "      <td>0</td>\n",
       "      <td>0.65</td>\n",
       "    </tr>\n",
       "  </tbody>\n",
       "</table>\n",
       "</div>"
      ],
      "text/plain": [
       "   Serial No.  GRE Score  TOEFL Score  University Rating  SOP  LOR   CGPA  \\\n",
       "0           1        337          118                  4  4.5   4.5  9.65   \n",
       "1           2        324          107                  4  4.0   4.5  8.87   \n",
       "2           3        316          104                  3  3.0   3.5  8.00   \n",
       "3           4        322          110                  3  3.5   2.5  8.67   \n",
       "4           5        314          103                  2  2.0   3.0  8.21   \n",
       "\n",
       "   Research  Chance of Admit   \n",
       "0         1              0.92  \n",
       "1         1              0.76  \n",
       "2         1              0.72  \n",
       "3         1              0.80  \n",
       "4         0              0.65  "
      ]
     },
     "execution_count": 2,
     "metadata": {},
     "output_type": "execute_result"
    }
   ],
   "source": [
    "data = pd.read_csv(\"C:/Users/91932/Desktop/InternSavy/Admission_Predict_Ver1.1.csv\")\n",
    "data.head()"
   ]
  },
  {
   "cell_type": "code",
   "execution_count": 3,
   "id": "5db565eb",
   "metadata": {},
   "outputs": [],
   "source": [
    "df = data.copy()\n",
    "data.drop(['Serial No.'], axis=1, inplace=True)"
   ]
  },
  {
   "cell_type": "code",
   "execution_count": 4,
   "id": "b582c0d7",
   "metadata": {},
   "outputs": [
    {
     "name": "stderr",
     "output_type": "stream",
     "text": [
      "C:\\Users\\91932\\AppData\\Local\\Temp\\ipykernel_21032\\1998091488.py:2: DeprecationWarning: `import pandas_profiling` is going to be deprecated by April 1st. Please use `import ydata_profiling` instead.\n",
      "  from pandas_profiling import ProfileReport\n"
     ]
    },
    {
     "data": {
      "application/vnd.jupyter.widget-view+json": {
       "model_id": "6d72251cee2c42d186a1138bdde1aad2",
       "version_major": 2,
       "version_minor": 0
      },
      "text/plain": [
       "Summarize dataset:   0%|          | 0/5 [00:00<?, ?it/s]"
      ]
     },
     "metadata": {},
     "output_type": "display_data"
    },
    {
     "data": {
      "application/vnd.jupyter.widget-view+json": {
       "model_id": "9f3e8bdc2dbf46c9b66f80ad0f3dea31",
       "version_major": 2,
       "version_minor": 0
      },
      "text/plain": [
       "Generate report structure:   0%|          | 0/1 [00:00<?, ?it/s]"
      ]
     },
     "metadata": {},
     "output_type": "display_data"
    },
    {
     "data": {
      "application/vnd.jupyter.widget-view+json": {
       "model_id": "d4bb1866344a487b9bdb05d44dbdc1b0",
       "version_major": 2,
       "version_minor": 0
      },
      "text/plain": [
       "Render HTML:   0%|          | 0/1 [00:00<?, ?it/s]"
      ]
     },
     "metadata": {},
     "output_type": "display_data"
    },
    {
     "data": {
      "application/vnd.jupyter.widget-view+json": {
       "model_id": "5953722a51cd4e73b6e992a3a298c0d2",
       "version_major": 2,
       "version_minor": 0
      },
      "text/plain": [
       "Export report to file:   0%|          | 0/1 [00:00<?, ?it/s]"
      ]
     },
     "metadata": {},
     "output_type": "display_data"
    }
   ],
   "source": [
    "import pandas as pd\n",
    "from pandas_profiling import ProfileReport\n",
    "\n",
    "# Load your dataset into a pandas DataFrame (replace with your own data)\n",
    "data = pd.read_csv(\"C:/Users/91932/Desktop/InternSavy/Admission_Predict_Ver1.1.csv\")\n",
    "\n",
    "# Generate the profiling report\n",
    "profile = ProfileReport(data, title=\"Dataset Profiling Report\")\n",
    "\n",
    "# Save the report to an HTML file\n",
    "profile.to_file(\"profiling_report.html\")\n"
   ]
  },
  {
   "cell_type": "code",
   "execution_count": 5,
   "id": "b90f62af",
   "metadata": {},
   "outputs": [
    {
     "data": {
      "image/png": "[encoded data removed]",
      "text/plain": [
       "<Figure size 800x800 with 2 Axes>"
      ]
     },
     "metadata": {},
     "output_type": "display_data"
    }
   ],
   "source": [
    "import numpy as np\n",
    "corr = data.corr()\n",
    "fig, ax = plt.subplots(figsize=(8, 8))\n",
    "colormap = sns.diverging_palette(220, 10, as_cmap=True)\n",
    "dropSelf = np.zeros_like(corr)\n",
    "dropSelf[np.triu_indices_from(dropSelf)] = True\n",
    "colormap = sns.diverging_palette(220, 10, as_cmap=True)\n",
    "sns.heatmap(corr, cmap=colormap, linewidths=.5, annot=True, fmt=\".2f\", mask=dropSelf)\n",
    "plt.show()"
   ]
  },
  {
   "cell_type": "code",
   "execution_count": 6,
   "id": "bc198cc2",
   "metadata": {},
   "outputs": [
    {
     "data": {
      "text/html": [
       "<div>\n",
       "<style scoped>\n",
       "    .dataframe tbody tr th:only-of-type {\n",
       "        vertical-align: middle;\n",
       "    }\n",
       "\n",
       "    .dataframe tbody tr th {\n",
       "        vertical-align: top;\n",
       "    }\n",
       "\n",
       "    .dataframe thead th {\n",
       "        text-align: right;\n",
       "    }\n",
       "</style>\n",
       "<table border=\"1\" class=\"dataframe\">\n",
       "  <thead>\n",
       "    <tr style=\"text-align: right;\">\n",
       "      <th></th>\n",
       "      <th>Serial No.</th>\n",
       "      <th>GRE Score</th>\n",
       "      <th>TOEFL Score</th>\n",
       "      <th>University Rating</th>\n",
       "      <th>SOP</th>\n",
       "      <th>LOR</th>\n",
       "      <th>CGPA</th>\n",
       "      <th>Research</th>\n",
       "      <th>Chance of Admit</th>\n",
       "    </tr>\n",
       "  </thead>\n",
       "  <tbody>\n",
       "    <tr>\n",
       "      <th>0</th>\n",
       "      <td>1</td>\n",
       "      <td>337</td>\n",
       "      <td>118</td>\n",
       "      <td>4</td>\n",
       "      <td>4.5</td>\n",
       "      <td>4.5</td>\n",
       "      <td>9.65</td>\n",
       "      <td>1</td>\n",
       "      <td>0.92</td>\n",
       "    </tr>\n",
       "    <tr>\n",
       "      <th>1</th>\n",
       "      <td>2</td>\n",
       "      <td>324</td>\n",
       "      <td>107</td>\n",
       "      <td>4</td>\n",
       "      <td>4.0</td>\n",
       "      <td>4.5</td>\n",
       "      <td>8.87</td>\n",
       "      <td>1</td>\n",
       "      <td>0.76</td>\n",
       "    </tr>\n",
       "    <tr>\n",
       "      <th>2</th>\n",
       "      <td>3</td>\n",
       "      <td>316</td>\n",
       "      <td>104</td>\n",
       "      <td>3</td>\n",
       "      <td>3.0</td>\n",
       "      <td>3.5</td>\n",
       "      <td>8.00</td>\n",
       "      <td>1</td>\n",
       "      <td>0.72</td>\n",
       "    </tr>\n",
       "    <tr>\n",
       "      <th>3</th>\n",
       "      <td>4</td>\n",
       "      <td>322</td>\n",
       "      <td>110</td>\n",
       "      <td>3</td>\n",
       "      <td>3.5</td>\n",
       "      <td>2.5</td>\n",
       "      <td>8.67</td>\n",
       "      <td>1</td>\n",
       "      <td>0.80</td>\n",
       "    </tr>\n",
       "    <tr>\n",
       "      <th>4</th>\n",
       "      <td>5</td>\n",
       "      <td>314</td>\n",
       "      <td>103</td>\n",
       "      <td>2</td>\n",
       "      <td>2.0</td>\n",
       "      <td>3.0</td>\n",
       "      <td>8.21</td>\n",
       "      <td>0</td>\n",
       "      <td>0.65</td>\n",
       "    </tr>\n",
       "  </tbody>\n",
       "</table>\n",
       "</div>"
      ],
      "text/plain": [
       "   Serial No.  GRE Score  TOEFL Score  University Rating  SOP  LOR   CGPA  \\\n",
       "0           1        337          118                  4  4.5   4.5  9.65   \n",
       "1           2        324          107                  4  4.0   4.5  8.87   \n",
       "2           3        316          104                  3  3.0   3.5  8.00   \n",
       "3           4        322          110                  3  3.5   2.5  8.67   \n",
       "4           5        314          103                  2  2.0   3.0  8.21   \n",
       "\n",
       "   Research  Chance of Admit   \n",
       "0         1              0.92  \n",
       "1         1              0.76  \n",
       "2         1              0.72  \n",
       "3         1              0.80  \n",
       "4         0              0.65  "
      ]
     },
     "execution_count": 6,
     "metadata": {},
     "output_type": "execute_result"
    }
   ],
   "source": [
    "data.head()"
   ]
  },
  {
   "cell_type": "code",
   "execution_count": 7,
   "id": "25cceb2c",
   "metadata": {},
   "outputs": [],
   "source": [
    "from sklearn.model_selection import train_test_split\n",
    "\n",
    "X = data.drop(['Chance of Admit '], axis=1)\n",
    "y = data['Chance of Admit ']\n",
    "X_train, X_test, y_train, y_test = train_test_split(X,y,test_size = 0.20, shuffle=False)"
   ]
  },
  {
   "cell_type": "code",
   "execution_count": 9,
   "id": "4d45a3da",
   "metadata": {},
   "outputs": [
    {
     "name": "stdout",
     "output_type": "stream",
     "text": [
      "Collecting catboost\n",
      "  Downloading catboost-1.2-cp310-cp310-win_amd64.whl (101.0 MB)\n",
      "     -------------------------------------- 101.0/101.0 MB 2.8 MB/s eta 0:00:00\n",
      "Requirement already satisfied: numpy>=1.16.0 in c:\\users\\91932\\anaconda3\\lib\\site-packages (from catboost) (1.23.5)\n",
      "Requirement already satisfied: matplotlib in c:\\users\\91932\\anaconda3\\lib\\site-packages (from catboost) (3.7.0)\n",
      "Requirement already satisfied: six in c:\\users\\91932\\anaconda3\\lib\\site-packages (from catboost) (1.16.0)\n",
      "Requirement already satisfied: plotly in c:\\users\\91932\\anaconda3\\lib\\site-packages (from catboost) (5.9.0)\n",
      "Requirement already satisfied: scipy in c:\\users\\91932\\anaconda3\\lib\\site-packages (from catboost) (1.10.0)\n",
      "Collecting graphviz\n",
      "  Using cached graphviz-0.20.1-py3-none-any.whl (47 kB)\n",
      "Requirement already satisfied: pandas>=0.24 in c:\\users\\91932\\anaconda3\\lib\\site-packages (from catboost) (1.5.3)\n",
      "Requirement already satisfied: pytz>=2020.1 in c:\\users\\91932\\anaconda3\\lib\\site-packages (from pandas>=0.24->catboost) (2022.7)\n",
      "Requirement already satisfied: python-dateutil>=2.8.1 in c:\\users\\91932\\anaconda3\\lib\\site-packages (from pandas>=0.24->catboost) (2.8.2)\n",
      "Requirement already satisfied: contourpy>=1.0.1 in c:\\users\\91932\\anaconda3\\lib\\site-packages (from matplotlib->catboost) (1.0.5)\n",
      "Requirement already satisfied: pillow>=6.2.0 in c:\\users\\91932\\anaconda3\\lib\\site-packages (from matplotlib->catboost) (9.4.0)\n",
      "Requirement already satisfied: packaging>=20.0 in c:\\users\\91932\\anaconda3\\lib\\site-packages (from matplotlib->catboost) (22.0)\n",
      "Requirement already satisfied: pyparsing>=2.3.1 in c:\\users\\91932\\anaconda3\\lib\\site-packages (from matplotlib->catboost) (3.0.9)\n",
      "Requirement already satisfied: cycler>=0.10 in c:\\users\\91932\\anaconda3\\lib\\site-packages (from matplotlib->catboost) (0.11.0)\n",
      "Requirement already satisfied: kiwisolver>=1.0.1 in c:\\users\\91932\\anaconda3\\lib\\site-packages (from matplotlib->catboost) (1.4.4)\n",
      "Requirement already satisfied: fonttools>=4.22.0 in c:\\users\\91932\\anaconda3\\lib\\site-packages (from matplotlib->catboost) (4.25.0)\n",
      "Requirement already satisfied: tenacity>=6.2.0 in c:\\users\\91932\\anaconda3\\lib\\site-packages (from plotly->catboost) (8.0.1)\n",
      "Installing collected packages: graphviz, catboost\n",
      "Successfully installed catboost-1.2 graphviz-0.20.1\n",
      "Note: you may need to restart the kernel to use updated packages.\n"
     ]
    }
   ],
   "source": [
    "pip install catboost"
   ]
  },
  {
   "cell_type": "code",
   "execution_count": 10,
   "id": "6305ad65",
   "metadata": {},
   "outputs": [
    {
     "name": "stdout",
     "output_type": "stream",
     "text": [
      "Results...\n",
      "DecisionTree : 0.09098351499035415\n",
      "Linear Regression : 0.057833975249042435\n",
      "RandomForest : 0.051649998063891464\n",
      "KNeighbours : 0.11716228061966018\n",
      "SVM : 0.09186782300570517\n",
      "AdaBoostClassifier : 0.05513066387603024\n",
      "GradientBoostingClassifier:  0.0498059226439498\n",
      "Xgboost:  0.06534140032738223\n",
      "CatBoost:  0.04673173405601508\n",
      "Lasso:  0.1148860969290504\n",
      "Ridge:  0.05831519386729694\n",
      "BayesianRidge:  0.059175262027732545\n",
      "ElasticNet:  0.08897598984510355\n",
      "HuberRegressor:  0.06890833033374175\n"
     ]
    },
    {
     "name": "stderr",
     "output_type": "stream",
     "text": [
      "C:\\Users\\91932\\anaconda3\\lib\\site-packages\\sklearn\\linear_model\\_huber.py:342: ConvergenceWarning: lbfgs failed to converge (status=1):\n",
      "STOP: TOTAL NO. of ITERATIONS REACHED LIMIT.\n",
      "\n",
      "Increase the number of iterations (max_iter) or scale the data as shown in:\n",
      "    https://scikit-learn.org/stable/modules/preprocessing.html\n",
      "  self.n_iter_ = _check_optimize_result(\"lbfgs\", opt_res, self.max_iter)\n"
     ]
    }
   ],
   "source": [
    "from sklearn.ensemble import RandomForestClassifier\n",
    "from sklearn.metrics import accuracy_score\n",
    "from sklearn.tree import DecisionTreeRegressor\n",
    "from sklearn.ensemble import RandomForestRegressor\n",
    "from sklearn.neighbors import KNeighborsRegressor\n",
    "from sklearn.svm import SVR\n",
    "from sklearn.linear_model import LinearRegression\n",
    "from sklearn.ensemble import AdaBoostRegressor\n",
    "from sklearn.ensemble import GradientBoostingRegressor\n",
    "from xgboost import XGBRegressor\n",
    "from catboost import CatBoostRegressor\n",
    "from sklearn.linear_model import Lasso,Ridge,BayesianRidge,ElasticNet,HuberRegressor,LinearRegression,LogisticRegression,SGDRegressor\n",
    "from sklearn.metrics import mean_squared_error\n",
    "\n",
    "models = [['DecisionTree :',DecisionTreeRegressor()],\n",
    "           ['Linear Regression :', LinearRegression()],\n",
    "           ['RandomForest :',RandomForestRegressor()],\n",
    "           ['KNeighbours :', KNeighborsRegressor(n_neighbors = 2)],\n",
    "           ['SVM :', SVR()],\n",
    "           ['AdaBoostClassifier :', AdaBoostRegressor()],\n",
    "           ['GradientBoostingClassifier: ', GradientBoostingRegressor()],\n",
    "           ['Xgboost: ', XGBRegressor()],\n",
    "           ['CatBoost: ', CatBoostRegressor(logging_level='Silent')],\n",
    "           ['Lasso: ', Lasso()],\n",
    "           ['Ridge: ', Ridge()],\n",
    "           ['BayesianRidge: ', BayesianRidge()],\n",
    "           ['ElasticNet: ', ElasticNet()],\n",
    "           ['HuberRegressor: ', HuberRegressor()]]\n",
    "\n",
    "print(\"Results...\")\n",
    "\n",
    "model_df = {}\n",
    "\n",
    "\n",
    "for name,model in models:\n",
    "    model = model\n",
    "    model.fit(X_train, y_train)\n",
    "    predictions = model.predict(X_test)\n",
    "    print(name, (np.sqrt(mean_squared_error(y_test, predictions))))\n",
    "    model_df[name] = (np.sqrt(mean_squared_error(y_test, predictions)))"
   ]
  },
  {
   "cell_type": "code",
   "execution_count": 11,
   "id": "6c16a0a5",
   "metadata": {},
   "outputs": [
    {
     "name": "stdout",
     "output_type": "stream",
     "text": [
      "[[73  2]\n",
      " [ 3 22]]\n",
      "Accuracy: 95.00%\n",
      "MSE: 0.22360679774997896\n"
     ]
    }
   ],
   "source": [
    "x = df.iloc[:, :-1].values # Independent Var x\n",
    "y = df.iloc[:, -1].values  # Dependent Var y\n",
    "\n",
    "\n",
    "X_train, X_test, y_train, y_test = train_test_split(x,y,test_size = 0.20, shuffle=False)\n",
    "# If the \"chance of admit\" is greater than \"80\" then the admission is confirmed means \"1\"\n",
    "y_train = [1 if each > 0.8 else 0 for each in y_train]\n",
    "# If the \"chance of admit\" is lower than \"80\" then the admission is not confirmed means \"0\"\n",
    "y_test = [1 if each > 0.8 else 0 for each in y_test]\n",
    "from sklearn.ensemble import RandomForestClassifier\n",
    "classifier = RandomForestClassifier(n_estimators = 100, random_state = 0)\n",
    "classifier.fit(X_train, y_train)\n",
    "y_pred = classifier.predict(X_test)\n",
    "\n",
    "from sklearn.metrics import confusion_matrix, accuracy_score\n",
    "cm = confusion_matrix(y_test, y_pred)\n",
    "print(cm)\n",
    "print(\"Accuracy: {:.2f}%\".format(accuracy_score(y_test, y_pred)*100))\n",
    "print('MSE:', np.sqrt(mean_squared_error(y_test, y_pred)))"
   ]
  },
  {
   "cell_type": "code",
   "execution_count": 12,
   "id": "562377f2",
   "metadata": {},
   "outputs": [
    {
     "data": {
      "text/html": [
       "<div>\n",
       "<style scoped>\n",
       "    .dataframe tbody tr th:only-of-type {\n",
       "        vertical-align: middle;\n",
       "    }\n",
       "\n",
       "    .dataframe tbody tr th {\n",
       "        vertical-align: top;\n",
       "    }\n",
       "\n",
       "    .dataframe thead th {\n",
       "        text-align: right;\n",
       "    }\n",
       "</style>\n",
       "<table border=\"1\" class=\"dataframe\">\n",
       "  <thead>\n",
       "    <tr style=\"text-align: right;\">\n",
       "      <th></th>\n",
       "      <th>models</th>\n",
       "    </tr>\n",
       "  </thead>\n",
       "  <tbody>\n",
       "    <tr>\n",
       "      <th>CatBoost:</th>\n",
       "      <td>0.046732</td>\n",
       "    </tr>\n",
       "    <tr>\n",
       "      <th>GradientBoostingClassifier:</th>\n",
       "      <td>0.049806</td>\n",
       "    </tr>\n",
       "    <tr>\n",
       "      <th>RandomForest :</th>\n",
       "      <td>0.051650</td>\n",
       "    </tr>\n",
       "    <tr>\n",
       "      <th>AdaBoostClassifier :</th>\n",
       "      <td>0.055131</td>\n",
       "    </tr>\n",
       "    <tr>\n",
       "      <th>Linear Regression :</th>\n",
       "      <td>0.057834</td>\n",
       "    </tr>\n",
       "    <tr>\n",
       "      <th>Ridge:</th>\n",
       "      <td>0.058315</td>\n",
       "    </tr>\n",
       "    <tr>\n",
       "      <th>BayesianRidge:</th>\n",
       "      <td>0.059175</td>\n",
       "    </tr>\n",
       "    <tr>\n",
       "      <th>Xgboost:</th>\n",
       "      <td>0.065341</td>\n",
       "    </tr>\n",
       "    <tr>\n",
       "      <th>HuberRegressor:</th>\n",
       "      <td>0.068908</td>\n",
       "    </tr>\n",
       "    <tr>\n",
       "      <th>ElasticNet:</th>\n",
       "      <td>0.088976</td>\n",
       "    </tr>\n",
       "    <tr>\n",
       "      <th>DecisionTree :</th>\n",
       "      <td>0.090984</td>\n",
       "    </tr>\n",
       "    <tr>\n",
       "      <th>SVM :</th>\n",
       "      <td>0.091868</td>\n",
       "    </tr>\n",
       "    <tr>\n",
       "      <th>Lasso:</th>\n",
       "      <td>0.114886</td>\n",
       "    </tr>\n",
       "    <tr>\n",
       "      <th>KNeighbours :</th>\n",
       "      <td>0.117162</td>\n",
       "    </tr>\n",
       "  </tbody>\n",
       "</table>\n",
       "</div>"
      ],
      "text/plain": [
       "                                models\n",
       "CatBoost:                     0.046732\n",
       "GradientBoostingClassifier:   0.049806\n",
       "RandomForest :                0.051650\n",
       "AdaBoostClassifier :          0.055131\n",
       "Linear Regression :           0.057834\n",
       "Ridge:                        0.058315\n",
       "BayesianRidge:                0.059175\n",
       "Xgboost:                      0.065341\n",
       "HuberRegressor:               0.068908\n",
       "ElasticNet:                   0.088976\n",
       "DecisionTree :                0.090984\n",
       "SVM :                         0.091868\n",
       "Lasso:                        0.114886\n",
       "KNeighbours :                 0.117162"
      ]
     },
     "execution_count": 12,
     "metadata": {},
     "output_type": "execute_result"
    }
   ],
   "source": [
    "p = pd.DataFrame(data=model_df.values(), columns=['models'], index=model_df.keys())\n",
    "model_df\n",
    "p.sort_values(by=['models'])"
   ]
  },
  {
   "cell_type": "code",
   "execution_count": 16,
   "id": "f1e65c20",
   "metadata": {},
   "outputs": [
    {
     "data": {
      "image/png": "[encoded data removed]",
      "text/plain": [
       "<Figure size 640x480 with 1 Axes>"
      ]
     },
     "metadata": {},
     "output_type": "display_data"
    }
   ],
   "source": [
    "import matplotlib.pyplot as plt\n",
    "import pandas as pd\n",
    "classifier = RandomForestRegressor()\n",
    "classifier.fit(X,y)\n",
    "feature_names = X.columns\n",
    "importance_frame = pd.DataFrame()\n",
    "importance_frame['Features'] = X.columns\n",
    "importance_frame['Importance'] = classifier.feature_importances_\n",
    "importance_frame = importance_frame.sort_values(by=['Importance'], ascending=True)\n",
    "\n",
    "plt.barh(range(len(importance_frame)), importance_frame['Importance'], align='center', alpha=0.5)\n",
    "plt.yticks(range(len(importance_frame)), importance_frame['Features'])\n",
    "plt.xlabel('Importance')\n",
    "plt.title('Feature Importances')\n",
    "plt.show()\n"
   ]
  },
  {
   "cell_type": "markdown",
   "id": "a8cc5c90",
   "metadata": {},
   "source": [
    "CGPA is the most important\n",
    "\n",
    "\n",
    "\n",
    "add multicollinearity, hyper-parameters are tuned differently and a better tuned Random Forest may produce better metrics' results. I think, in tasks with small dimension, strong nonlinear models need initial tune-up for correct work. This can be reason that they are worse than regression.\n"
   ]
  },
  {
   "cell_type": "code",
   "execution_count": 17,
   "id": "e27c0e55",
   "metadata": {},
   "outputs": [
    {
     "name": "stdout",
     "output_type": "stream",
     "text": [
      "           variables          VIF\n",
      "0         Serial No.     4.159745\n",
      "1          GRE Score  1328.233222\n",
      "2        TOEFL Score  1230.783122\n",
      "3  University Rating    20.934147\n",
      "4                SOP    36.155544\n",
      "5               LOR     31.231834\n",
      "6               CGPA   952.907558\n",
      "7           Research     2.869689\n",
      "Index(['Serial No.', 'University Rating', 'Research'], dtype='object')\n"
     ]
    }
   ],
   "source": [
    "from statsmodels.stats.outliers_influence import variance_inflation_factor\n",
    "\n",
    "target = data['Chance of Admit ']\n",
    "mc_data = data.drop(['Chance of Admit '], axis=1)\n",
    "\n",
    "\n",
    "vif = pd.DataFrame()\n",
    "vif[\"variables\"] = mc_data.columns\n",
    "vif[\"VIF\"] = [variance_inflation_factor(mc_data.values, i) for i in range(mc_data.shape[1])]\n",
    "\n",
    "# Print the VIF values\n",
    "print(vif)\n",
    "\n",
    "# Remove features with high VIF\n",
    "threshold = 5\n",
    "while max(vif[\"VIF\"]) > threshold:\n",
    "    # Get the feature with the highest VIF\n",
    "    max_vif_feature = vif.loc[vif[\"VIF\"].idxmax(), \"variables\"]\n",
    "    # Remove the feature from the dataset and VIF table\n",
    "    mc_data = mc_data.drop(columns=[max_vif_feature])\n",
    "    vif = vif.drop(vif[vif[\"variables\"] == max_vif_feature].index)\n",
    "    # Recalculate VIF values\n",
    "    vif[\"VIF\"] = [variance_inflation_factor(mc_data.values, i) for i in range(mc_data.shape[1])]\n",
    "\n",
    "# Print the remaining features\n",
    "print(mc_data.columns)\n",
    "\n",
    "# This code can remove the multicollinearity from your data before using this you need to split the data into independent data and target so that it doesnt remove the target"
   ]
  },
  {
   "cell_type": "code",
   "execution_count": 18,
   "id": "e71b2964",
   "metadata": {},
   "outputs": [],
   "source": [
    "X = mc_data\n",
    "y = data['Chance of Admit ']\n",
    "X_train, X_test, y_train, y_test = train_test_split(X,y,test_size = 0.20, shuffle=False)"
   ]
  },
  {
   "cell_type": "code",
   "execution_count": 19,
   "id": "638ee5c0",
   "metadata": {},
   "outputs": [
    {
     "name": "stdout",
     "output_type": "stream",
     "text": [
      "Results...\n",
      "DecisionTree : 0.15350570021989413\n",
      "Linear Regression : 0.1251591467350938\n",
      "RandomForest : 0.13394351211785369\n",
      "KNeighbours : 0.16692213753723625\n",
      "SVM : 0.17840542466975956\n",
      "AdaBoostClassifier : 0.11063724360222348\n",
      "GradientBoostingClassifier:  0.14527945095913597\n",
      "Xgboost:  0.15622712419743878\n",
      "CatBoost:  0.13284271944469916\n",
      "Lasso:  0.13524648793961344\n",
      "Ridge:  0.12510444579885946\n",
      "BayesianRidge:  0.12505321809729303\n",
      "ElasticNet:  0.13557677050180642\n",
      "HuberRegressor:  0.12368003101055228\n"
     ]
    }
   ],
   "source": [
    "from sklearn.metrics import accuracy_score\n",
    "from sklearn.tree import DecisionTreeRegressor\n",
    "from sklearn.ensemble import RandomForestRegressor\n",
    "from sklearn.neighbors import KNeighborsRegressor\n",
    "from sklearn.svm import SVR\n",
    "from sklearn.linear_model import LinearRegression\n",
    "from sklearn.ensemble import AdaBoostRegressor\n",
    "from sklearn.ensemble import GradientBoostingRegressor\n",
    "from xgboost import XGBRegressor\n",
    "from catboost import CatBoostRegressor\n",
    "from sklearn.linear_model import Lasso,Ridge,BayesianRidge,ElasticNet,HuberRegressor,LinearRegression,LogisticRegression,SGDRegressor\n",
    "from sklearn.metrics import mean_squared_error\n",
    "\n",
    "models = [['DecisionTree :',DecisionTreeRegressor()],\n",
    "           ['Linear Regression :', LinearRegression()],\n",
    "           ['RandomForest :',RandomForestRegressor(n_estimators=1000, max_depth=10, min_samples_split=2, min_samples_leaf=1)],\n",
    "           ['KNeighbours :', KNeighborsRegressor(n_neighbors = 2)],\n",
    "           ['SVM :', SVR()],\n",
    "           ['AdaBoostClassifier :', AdaBoostRegressor()],\n",
    "           ['GradientBoostingClassifier: ', GradientBoostingRegressor()],\n",
    "           ['Xgboost: ', XGBRegressor()],\n",
    "           ['CatBoost: ', CatBoostRegressor(logging_level='Silent')],\n",
    "           ['Lasso: ', Lasso()],\n",
    "           ['Ridge: ', Ridge()],\n",
    "           ['BayesianRidge: ', BayesianRidge()],\n",
    "           ['ElasticNet: ', ElasticNet()],\n",
    "           ['HuberRegressor: ', HuberRegressor()]]\n",
    "\n",
    "print(\"Results...\")\n",
    "\n",
    "model_df = {}\n",
    "\n",
    "\n",
    "for name,model in models:\n",
    "    model = model\n",
    "    model.fit(X_train, y_train)\n",
    "    predictions = model.predict(X_test)\n",
    "    print(name, (np.sqrt(mean_squared_error(y_test, predictions))))\n",
    "    model_df[name] = (np.sqrt(mean_squared_error(y_test, predictions)))"
   ]
  },
  {
   "cell_type": "code",
   "execution_count": 20,
   "id": "363a55ce",
   "metadata": {},
   "outputs": [
    {
     "data": {
      "text/html": [
       "<div>\n",
       "<style scoped>\n",
       "    .dataframe tbody tr th:only-of-type {\n",
       "        vertical-align: middle;\n",
       "    }\n",
       "\n",
       "    .dataframe tbody tr th {\n",
       "        vertical-align: top;\n",
       "    }\n",
       "\n",
       "    .dataframe thead th {\n",
       "        text-align: right;\n",
       "    }\n",
       "</style>\n",
       "<table border=\"1\" class=\"dataframe\">\n",
       "  <thead>\n",
       "    <tr style=\"text-align: right;\">\n",
       "      <th></th>\n",
       "      <th>models</th>\n",
       "      <th>models without multicollinearity</th>\n",
       "    </tr>\n",
       "  </thead>\n",
       "  <tbody>\n",
       "    <tr>\n",
       "      <th>AdaBoostClassifier :</th>\n",
       "      <td>0.055131</td>\n",
       "      <td>0.110637</td>\n",
       "    </tr>\n",
       "    <tr>\n",
       "      <th>HuberRegressor:</th>\n",
       "      <td>0.068908</td>\n",
       "      <td>0.123680</td>\n",
       "    </tr>\n",
       "    <tr>\n",
       "      <th>BayesianRidge:</th>\n",
       "      <td>0.059175</td>\n",
       "      <td>0.125053</td>\n",
       "    </tr>\n",
       "    <tr>\n",
       "      <th>Ridge:</th>\n",
       "      <td>0.058315</td>\n",
       "      <td>0.125104</td>\n",
       "    </tr>\n",
       "    <tr>\n",
       "      <th>Linear Regression :</th>\n",
       "      <td>0.057834</td>\n",
       "      <td>0.125159</td>\n",
       "    </tr>\n",
       "    <tr>\n",
       "      <th>CatBoost:</th>\n",
       "      <td>0.046732</td>\n",
       "      <td>0.132843</td>\n",
       "    </tr>\n",
       "    <tr>\n",
       "      <th>RandomForest :</th>\n",
       "      <td>0.051650</td>\n",
       "      <td>0.133944</td>\n",
       "    </tr>\n",
       "    <tr>\n",
       "      <th>Lasso:</th>\n",
       "      <td>0.114886</td>\n",
       "      <td>0.135246</td>\n",
       "    </tr>\n",
       "    <tr>\n",
       "      <th>ElasticNet:</th>\n",
       "      <td>0.088976</td>\n",
       "      <td>0.135577</td>\n",
       "    </tr>\n",
       "    <tr>\n",
       "      <th>GradientBoostingClassifier:</th>\n",
       "      <td>0.049806</td>\n",
       "      <td>0.145279</td>\n",
       "    </tr>\n",
       "    <tr>\n",
       "      <th>DecisionTree :</th>\n",
       "      <td>0.090984</td>\n",
       "      <td>0.153506</td>\n",
       "    </tr>\n",
       "    <tr>\n",
       "      <th>Xgboost:</th>\n",
       "      <td>0.065341</td>\n",
       "      <td>0.156227</td>\n",
       "    </tr>\n",
       "    <tr>\n",
       "      <th>KNeighbours :</th>\n",
       "      <td>0.117162</td>\n",
       "      <td>0.166922</td>\n",
       "    </tr>\n",
       "    <tr>\n",
       "      <th>SVM :</th>\n",
       "      <td>0.091868</td>\n",
       "      <td>0.178405</td>\n",
       "    </tr>\n",
       "  </tbody>\n",
       "</table>\n",
       "</div>"
      ],
      "text/plain": [
       "                                models  models without multicollinearity\n",
       "AdaBoostClassifier :          0.055131                          0.110637\n",
       "HuberRegressor:               0.068908                          0.123680\n",
       "BayesianRidge:                0.059175                          0.125053\n",
       "Ridge:                        0.058315                          0.125104\n",
       "Linear Regression :           0.057834                          0.125159\n",
       "CatBoost:                     0.046732                          0.132843\n",
       "RandomForest :                0.051650                          0.133944\n",
       "Lasso:                        0.114886                          0.135246\n",
       "ElasticNet:                   0.088976                          0.135577\n",
       "GradientBoostingClassifier:   0.049806                          0.145279\n",
       "DecisionTree :                0.090984                          0.153506\n",
       "Xgboost:                      0.065341                          0.156227\n",
       "KNeighbours :                 0.117162                          0.166922\n",
       "SVM :                         0.091868                          0.178405"
      ]
     },
     "execution_count": 20,
     "metadata": {},
     "output_type": "execute_result"
    }
   ],
   "source": [
    "p['models without multicollinearity'] = model_df.values()\n",
    "p.sort_values(by=['models without multicollinearity'])"
   ]
  },
  {
   "cell_type": "code",
   "execution_count": 22,
   "id": "d0c05b9b",
   "metadata": {},
   "outputs": [
    {
     "data": {
      "image/png": "[encoded data removed]",
      "text/plain": [
       "<Figure size 640x480 with 1 Axes>"
      ]
     },
     "metadata": {},
     "output_type": "display_data"
    }
   ],
   "source": [
    "classifier = RandomForestRegressor()\n",
    "classifier.fit(X,y)\n",
    "feature_names = X.columns\n",
    "importance_frame = pd.DataFrame()\n",
    "importance_frame['Features'] = X.columns\n",
    "importance_frame['Importance'] = classifier.feature_importances_\n",
    "importance_frame = importance_frame.sort_values(by=['Importance'], ascending=True)\n",
    "\n",
    "plt.barh(range(len(importance_frame)), importance_frame['Importance'], align='center', alpha=0.5)\n",
    "plt.yticks(range(len(importance_frame)), importance_frame['Features'])\n",
    "plt.xlabel('Importance')\n",
    "plt.title('Feature Importances')\n",
    "plt.show()\n"
   ]
  }
 ],
 "metadata": {
  "kernelspec": {
   "display_name": "Python 3 (ipykernel)",
   "language": "python",
   "name": "python3"
  },
  "language_info": {
   "codemirror_mode": {
    "name": "ipython",
    "version": 3
   },
   "file_extension": ".py",
   "mimetype": "text/x-python",
   "name": "python",
   "nbconvert_exporter": "python",
   "pygments_lexer": "ipython3",
   "version": "3.10.9"
  }
 },
 "nbformat": 4,
 "nbformat_minor": 5
}
